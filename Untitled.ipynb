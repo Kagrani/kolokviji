{
 "cells": [
  {
   "cell_type": "markdown",
   "metadata": {},
   "source": [
    "# zadatak 1.\n"
   ]
  },
  {
   "cell_type": "code",
   "execution_count": null,
   "metadata": {},
   "outputs": [],
   "source": [
    "unutarnja = []\n",
    "for i in range(5):\n",
    "    unutarnja.append(10**i)\n",
    "q = []\n",
    "for r in unutarnja:\n",
    "    q.append(r**2)"
   ]
  },
  {
   "cell_type": "code",
   "execution_count": null,
   "metadata": {},
   "outputs": [],
   "source": [
    "q\n"
   ]
  },
  {
   "cell_type": "code",
   "execution_count": null,
   "metadata": {},
   "outputs": [],
   "source": [
    "q = []\n",
    "for r in range(5):[10**i for i in range(5)]\n",
    "   \n",
    "    "
   ]
  },
  {
   "cell_type": "markdown",
   "metadata": {},
   "source": [
    "# zadatak 2."
   ]
  },
  {
   "cell_type": "code",
   "execution_count": null,
   "metadata": {},
   "outputs": [],
   "source": [
    "import numpy as np\n",
    "def proporcija(N):\n",
    "    niz = np.random.uniform(size=N)\n",
    "    M = niz[(niz > .5) & (niz < .6)].size\n",
    "    return M/N"
   ]
  },
  {
   "cell_type": "code",
   "execution_count": null,
   "metadata": {},
   "outputs": [],
   "source": [
    "proporcija(100000)\n",
    "\n",
    "import ipywidgets"
   ]
  },
  {
   "cell_type": "code",
   "execution_count": null,
   "metadata": {},
   "outputs": [],
   "source": [
    "slider = ipywidgets.IntSlider(min=1,max=1000,step=1,value=10)\n",
    "ipywidgets.interact(proporcija, N= slider)\n",
    "\n"
   ]
  },
  {
   "cell_type": "markdown",
   "metadata": {},
   "source": [
    "Riješite sljedeću ODJ koristeći Runge-Kutta metodu četvrtog stupnja na segmentu $[0,4]$"
   ]
  },
  {
   "cell_type": "code",
   "execution_count": null,
   "metadata": {},
   "outputs": [],
   "source": [
    "import sympy as sp\n",
    "sp.init_printing()\n",
    "y = sp.Function('y')\n",
    "x = sp.Symbol('x')\n",
    "epsilon = sp.Symbol('epsilon')\n",
    "\n",
    "jedn = (sp.Eq(sp.Derivative(y(x),x), 1/sp.factor(2*(y(x)-1))),sp.Eq(y(0),1+sp.sqrt(epsilon)))"
   ]
  },
  {
   "cell_type": "code",
   "execution_count": null,
   "metadata": {},
   "outputs": [],
   "source": [
    "sva = sp.dsolve(jedn)\n",
    "sva"
   ]
  },
  {
   "cell_type": "code",
   "execution_count": null,
   "metadata": {},
   "outputs": [],
   "source": [
    "import matplotlib.pyplot as plt\n",
    "import math\n",
    "lista = np.linspace(0,1,10_000)\n",
    "\n",
    "def v(x,mi):\n",
    "    return (1-math.e**(x/mi))/(1-math.e**(1/mi))\n"
   ]
  },
  {
   "cell_type": "code",
   "execution_count": null,
   "metadata": {},
   "outputs": [],
   "source": [
    "slike = v(lista,0.1)\n",
    "plt.plot(lista,slike)"
   ]
  },
  {
   "cell_type": "code",
   "execution_count": null,
   "metadata": {},
   "outputs": [],
   "source": [
    "fig1, ax1 = plt.subplots()\n",
    "ax1.set_title('Proba')\n",
    "ax1.plot(lista,v(lista,0.1))\n",
    "ax1.plot(lista,v(lista,0.01))\n",
    "#ax1.plot(lista,v(lista,0.001))"
   ]
  },
  {
   "cell_type": "code",
   "execution_count": null,
   "metadata": {},
   "outputs": [],
   "source": [
    "import sympy as sp\n",
    "\n",
    "\n",
    "from sympy.abc import a, b,  x"
   ]
  },
  {
   "cell_type": "code",
   "execution_count": null,
   "metadata": {},
   "outputs": [],
   "source": [
    "izraz = math.log(x**y*a**b)"
   ]
  },
  {
   "cell_type": "markdown",
   "metadata": {},
   "source": [
    "## Na njegov nacin rjesenje"
   ]
  },
  {
   "cell_type": "code",
   "execution_count": null,
   "metadata": {},
   "outputs": [],
   "source": [
    "v = sp.Function('v')\n",
    "mu = sp.Symbol('mu')\n",
    "\n",
    "definicija = sp.Eq(v(x), (1-sp.E**(x/mu))/(1-sp.E**(1/mu)))\n",
    "definicija"
   ]
  },
  {
   "cell_type": "code",
   "execution_count": null,
   "metadata": {},
   "outputs": [],
   "source": [
    "import matplotlib.pyplot as plt\n",
    "%matplotlib inline"
   ]
  },
  {
   "cell_type": "code",
   "execution_count": null,
   "metadata": {},
   "outputs": [],
   "source": [
    "domena = np.linspace(0,1,10000)\n",
    "mi = 1\n",
    "slika = (1-np.e**(domena/mi))/(1-np.e**(1/mi))\n",
    "plt.plot(domena,slika)"
   ]
  },
  {
   "cell_type": "markdown",
   "metadata": {},
   "source": [
    "fALI TU NESTO \n",
    "\n",
    "\n",
    "\n",
    "\n",
    "\n",
    "\n",
    "\n",
    "\n",
    "\n",
    "\n",
    "\n",
    "\n",
    "\n",
    "\n",
    "\n",
    "\n",
    "\n",
    "\n",
    "\n",
    "\n",
    "\n",
    "\n",
    "\n",
    "\n",
    "\n",
    "\n",
    "\n",
    "\n",
    "\n",
    "\n",
    "\n",
    "\n",
    "\n",
    "\n",
    "\n",
    "\n",
    "\n",
    "\n",
    "\n",
    "\n",
    "\n",
    "\n",
    "\n",
    "\n",
    "\n",
    "\n",
    "\n",
    "\n",
    "\n",
    "\n",
    "\n",
    "\n",
    "\n",
    "\n",
    "\n"
   ]
  },
  {
   "cell_type": "markdown",
   "metadata": {},
   "source": [
    "# zADATAK 5"
   ]
  },
  {
   "cell_type": "code",
   "execution_count": null,
   "metadata": {},
   "outputs": [],
   "source": [
    "import sympy as sp\n",
    "sp.init_printing()"
   ]
  },
  {
   "cell_type": "code",
   "execution_count": null,
   "metadata": {},
   "outputs": [],
   "source": [
    "x, a =  sp.symbols('x a', positive=True)\n",
    "y, b =  sp.symbols('y b', real=True)\n",
    "izraz = sp.log(x**y * a**b)\n",
    "izraz"
   ]
  },
  {
   "cell_type": "code",
   "execution_count": null,
   "metadata": {},
   "outputs": [],
   "source": [
    "sp.expand_log(izraz)"
   ]
  },
  {
   "cell_type": "markdown",
   "metadata": {},
   "source": [
    "## čačić 1"
   ]
  },
  {
   "cell_type": "markdown",
   "metadata": {},
   "source": [
    "Što ispisuje slijedeći kod i zašto?"
   ]
  },
  {
   "cell_type": "markdown",
   "metadata": {},
   "source": [
    "Za babino brasno"
   ]
  },
  {
   "cell_type": "code",
   "execution_count": null,
   "metadata": {},
   "outputs": [],
   "source": [
    "a = b = 5\n",
    "a +=3\n",
    "print(b)\n",
    "\n",
    "a = b = [5]\n",
    "a +=[3]\n",
    "print(b)"
   ]
  },
  {
   "cell_type": "markdown",
   "metadata": {},
   "source": [
    "oboje referiraju na tu listu sta god ja dodala"
   ]
  },
  {
   "cell_type": "markdown",
   "metadata": {},
   "source": [
    "lista se ne može promijeniti nego se samo nadoda"
   ]
  },
  {
   "cell_type": "markdown",
   "metadata": {},
   "source": [
    "## Čačić 2"
   ]
  },
  {
   "cell_type": "markdown",
   "metadata": {},
   "source": [
    "Simulirajte bacanje pristranog novčića (vjerojatnost glave je 0.55)\n",
    "1000 puta.Kolika je vjerojatnost da broj glava bude veći od broja pisama? (Rezultat odredite numerički iz simulacije)"
   ]
  },
  {
   "cell_type": "code",
   "execution_count": null,
   "metadata": {},
   "outputs": [],
   "source": [
    "import numpy as np"
   ]
  },
  {
   "cell_type": "code",
   "execution_count": null,
   "metadata": {},
   "outputs": [],
   "source": [
    "def rand():\n",
    "    return np.random.uniform(0,1)"
   ]
  },
  {
   "cell_type": "code",
   "execution_count": null,
   "metadata": {},
   "outputs": [],
   "source": [
    "cnt = 0\n",
    "for i in range(1000):\n",
    "    if(rand()>float(0.55)):\n",
    "        cnt += 1\n",
    "cnt/1000"
   ]
  },
  {
   "cell_type": "markdown",
   "metadata": {},
   "source": [
    "njegovo rjŽ"
   ]
  },
  {
   "cell_type": "code",
   "execution_count": null,
   "metadata": {},
   "outputs": [],
   "source": [
    "glave = np.random.uniform(size=1000) < .55"
   ]
  },
  {
   "cell_type": "code",
   "execution_count": null,
   "metadata": {},
   "outputs": [],
   "source": [
    "brojglava = glave.sum()\n",
    "brojglava > 1000/2"
   ]
  },
  {
   "cell_type": "code",
   "execution_count": null,
   "metadata": {},
   "outputs": [],
   "source": [
    "import numpy as np"
   ]
  },
  {
   "cell_type": "code",
   "execution_count": null,
   "metadata": {},
   "outputs": [],
   "source": [
    "broj_bacanja = 1000\n",
    "broj_pokusa = 100_000\n",
    "vjerojatnost_glave = .55\n",
    "\n",
    "pokusi= np.random.uniform(size=(broj_bacanja,broj_pokusa))\n",
    "glave = pokusi < vjerojatnost_glave"
   ]
  },
  {
   "cell_type": "code",
   "execution_count": null,
   "metadata": {},
   "outputs": [],
   "source": [
    "broj_glava = glave.sum(axis=0)\n",
    "broj_pisama = broj_bacanja - broj_glava\n",
    "(broj_glava > broj_pisama).sum() / broj_pokusa"
   ]
  },
  {
   "cell_type": "markdown",
   "metadata": {},
   "source": [
    "## Čačić 3"
   ]
  },
  {
   "cell_type": "markdown",
   "metadata": {},
   "source": [
    "Za najkasniji (datumi su u prvom stupcu) redak koji u predzadnjem stupcu ima girl a u zadnjem yellow , nađite umnožak drugog i trećeg stupca"
   ]
  },
  {
   "cell_type": "code",
   "execution_count": null,
   "metadata": {},
   "outputs": [],
   "source": [
    "import pandas as pd"
   ]
  },
  {
   "cell_type": "code",
   "execution_count": null,
   "metadata": {},
   "outputs": [],
   "source": [
    "header = 'datum prvi drugi spol boja'.split()\n",
    "df = pd.read_csv('pdzad.csv', delimiter = '\\t', names = header, index_col=0, parse_dates = True)"
   ]
  },
  {
   "cell_type": "code",
   "execution_count": null,
   "metadata": {},
   "outputs": [],
   "source": [
    "subdf = df[(df['spol'] == 'girl') & (df['boja'] == 'yellow')]"
   ]
  },
  {
   "cell_type": "code",
   "execution_count": null,
   "metadata": {},
   "outputs": [],
   "source": [
    "trazeni = subdf.loc[subdf.index.max()]\n",
    "trazeni['prvi']*trazeni['drugi']"
   ]
  },
  {
   "cell_type": "markdown",
   "metadata": {},
   "source": [
    "Za ovaj zadatak je uzeo sa interneta neki csv podatak "
   ]
  },
  {
   "cell_type": "markdown",
   "metadata": {},
   "source": [
    "## Čačić 4"
   ]
  },
  {
   "cell_type": "markdown",
   "metadata": {},
   "source": [
    "Nacrtajte u polarnom koordinatnom sustavu grafove $r=\\frac{1}{\\theta}$ i $r=ln(\\theta)$"
   ]
  },
  {
   "cell_type": "code",
   "execution_count": null,
   "metadata": {},
   "outputs": [],
   "source": [
    "theta = np.linspace(0,2*np.pi,10000)[1:]\n",
    "r1 = 1/ theta\n",
    "r2 = np.log(theta)\n"
   ]
  },
  {
   "cell_type": "code",
   "execution_count": null,
   "metadata": {},
   "outputs": [],
   "source": [
    "import matplotlib.pyplot as plt\n",
    "%matplotlib inline"
   ]
  },
  {
   "cell_type": "code",
   "execution_count": null,
   "metadata": {},
   "outputs": [],
   "source": [
    "plt.polar(theta,r1)"
   ]
  },
  {
   "cell_type": "markdown",
   "metadata": {},
   "source": [
    "## Čačić 5"
   ]
  },
  {
   "cell_type": "markdown",
   "metadata": {},
   "source": [
    "Napisite funkciju koja prima simboličku funkciju, integrira je simbolički po varijabli x (ako moze), dobiveni rezultat derivira simbolicki i usporeduje s originalnim ulazom. Na kraju treba ispisati jednadzbe koje proizlaze iz integriranja odnosno deriviranja "
   ]
  },
  {
   "cell_type": "code",
   "execution_count": 1,
   "metadata": {},
   "outputs": [],
   "source": [
    "import sympy as sp\n",
    "sp.init_printing()\n",
    "x = sp.Symbol('x')\n",
    "\n",
    "def provjeri_integral(fja):\n",
    "    integral = sp.Integral(fja,x)\n",
    "    intfja = integral.doit()\n",
    "    prva = sp.Eq(integral, intfja)\n",
    "    \n",
    "    derivacija = sp.Derivative(intfja,x)\n",
    "    derfja = derivacija.doit()\n",
    "    druga = sp.Eq(derivacija, derfja)\n",
    "    \n",
    "    if derfja == fja:\n",
    "        print('Sintaksno su jednake')\n",
    "    else:\n",
    "        print('Nisu sintaksno jednake')\n",
    "    return prva, druga"
   ]
  },
  {
   "cell_type": "code",
   "execution_count": 2,
   "metadata": {},
   "outputs": [
    {
     "name": "stdout",
     "output_type": "stream",
     "text": [
      "Sintaksno su jednake\n"
     ]
    },
    {
     "data": {
      "image/png": "[encoded data removed]",
      "text/latex": [
       "$$\\left ( \\int \\sin{\\left (x \\right )}\\, dx = - \\cos{\\left (x \\right )}, \\quad \\frac{d}{d x}\\left(- \\cos{\\left (x \\right )}\\right) = \\sin{\\left (x \\right )}\\right )$$"
      ],
      "text/plain": [
       "⎛⌠                      d                   ⎞\n",
       "⎜⎮ sin(x) dx = -cos(x), ──(-cos(x)) = sin(x)⎟\n",
       "⎝⌡                      dx                  ⎠"
      ]
     },
     "execution_count": 2,
     "metadata": {},
     "output_type": "execute_result"
    }
   ],
   "source": [
    "provjeri_integral(sp.sin(x))"
   ]
  },
  {
   "cell_type": "code",
   "execution_count": 3,
   "metadata": {},
   "outputs": [
    {
     "name": "stdout",
     "output_type": "stream",
     "text": [
      "Nisu sintaksno jednake\n"
     ]
    },
    {
     "data": {
      "image/png": "[encoded data removed]",
      "text/latex": [
       "$$\\left ( \\int x \\left(x + 1\\right)\\, dx = \\frac{x^{3}}{3} + \\frac{x^{2}}{2}, \\quad \\frac{d}{d x}\\left(\\frac{x^{3}}{3} + \\frac{x^{2}}{2}\\right) = x^{2} + x\\right )$$"
      ],
      "text/plain": [
       "⎛                  3    2    ⎛ 3    2⎞         ⎞\n",
       "⎜⌠                x    x   d ⎜x    x ⎟    2    ⎟\n",
       "⎜⎮ x⋅(x + 1) dx = ── + ──, ──⎜── + ──⎟ = x  + x⎟\n",
       "⎝⌡                3    2   dx⎝3    2 ⎠         ⎠"
      ]
     },
     "execution_count": 3,
     "metadata": {},
     "output_type": "execute_result"
    }
   ],
   "source": [
    "provjeri_integral(x*(x+1))"
   ]
  },
  {
   "cell_type": "markdown",
   "metadata": {},
   "source": [
    "dz: ispisite te dvije jednadzbe lijepo jednu ispod druge, a ne kao uredeni par"
   ]
  },
  {
   "cell_type": "code",
   "execution_count": null,
   "metadata": {},
   "outputs": [],
   "source": []
  }
 ],
 "metadata": {
  "kernelspec": {
   "display_name": "Python 3",
   "language": "python",
   "name": "python3"
  },
  "language_info": {
   "codemirror_mode": {
    "name": "ipython",
    "version": 3
   },
   "file_extension": ".py",
   "mimetype": "text/x-python",
   "name": "python",
   "nbconvert_exporter": "python",
   "pygments_lexer": "ipython3",
   "version": "3.6.4"
  }
 },
 "nbformat": 4,
 "nbformat_minor": 2
}
